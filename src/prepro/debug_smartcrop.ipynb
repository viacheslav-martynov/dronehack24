{
 "cells": [
  {
   "cell_type": "code",
   "execution_count": 195,
   "metadata": {},
   "outputs": [],
   "source": [
    "\"\"\"\n",
    "This script implements a smart crop of objects in an image depending on the size of the bounding box.\n",
    "Our idea is to keep object smallest side size not less than some pixel_value.\n",
    "Lets take 128 as reference.\n",
    "\n",
    "\"\"\"\n",
    "import os\n",
    "import numpy as np\n",
    "from pathlib import Path\n",
    "from PIL import Image, ImageDraw\n",
    "\n",
    "image_base_dir = \"/home/slava/hdd/hdd4/Datasets/lct-drones/prod_data\"\n",
    "\n",
    "min_pixel_size = 128\n",
    "\n",
    "def get_object_classes(image_labels):\n",
    "    object_classes = []\n",
    "    for image_label in image_labels:\n",
    "        object_classes.append(image_label[0])\n",
    "    return object_classes\n",
    "\n",
    "def get_image_labels(image_labels_path):\n",
    "    with open(image_labels_path, 'r') as f:\n",
    "        image_labels = []\n",
    "        for image_label in f.readlines():\n",
    "            image_labels.append(list(map(float, image_label.strip().split())))\n",
    "    return image_labels\n",
    "\n",
    "def get_boxes_pixel_xyxy(image_labels, image_size):\n",
    "    \"\"\"\n",
    "    Computes pixel box size of objects\n",
    "    \"\"\"\n",
    "    shapes = []\n",
    "    for image_label in image_labels:\n",
    "        shape = [\n",
    "            (image_label[1]-image_label[3]/2)*image_size[0],\n",
    "            (image_label[2]-image_label[4]/2)*image_size[1],\n",
    "            (image_label[1]+image_label[3]/2)*image_size[0],\n",
    "            (image_label[2]+image_label[4]/2)*image_size[1]\n",
    "        ]\n",
    "        shapes.append(shape)\n",
    "    return shapes\n",
    "\n",
    "def get_objects_for_crop(boxes_pixel_xyxy, min_pixel_size):\n",
    "    \"\"\"\n",
    "    Computes pixel box size of objects in one image \n",
    "    and returns objects that must be cropped and resized.\n",
    "    \"\"\"\n",
    "    boxes_to_scale = []\n",
    "    for box_pixel_xyxy in boxes_pixel_xyxy:\n",
    "        k_w_min = 1\n",
    "        k_h_min = 1\n",
    "        width = box_pixel_xyxy[2] - box_pixel_xyxy[0]\n",
    "        height = box_pixel_xyxy[3] - box_pixel_xyxy[1]\n",
    "        if width < min_pixel_size:\n",
    "            # Minimal coef for scaling witdth to match minimal requirement\n",
    "            k_w_min = min_pixel_size / width\n",
    "        if height < min_pixel_size:\n",
    "            # Minimal coef for scaling witdth to match minimal requirement\n",
    "            k_h_min = min_pixel_size / height\n",
    "\n",
    "        scale_coef = max(k_w_min, k_h_min)\n",
    "        if scale_coef>1:\n",
    "            scale_coef *= np.random.uniform(1, 1.25) \n",
    "            boxes_to_scale.append((box_pixel_xyxy, scale_coef))\n",
    "    return boxes_to_scale\n",
    "\n",
    "def get_new_labels(crop, image_labels, object_classes):\n",
    "    \"\"\"\n",
    "    crop  - xyxy\n",
    "    image_labels  - xyxy\n",
    "    \"\"\"\n",
    "\n",
    "    crop_width = crop[2]-crop[0]\n",
    "    crop_height = crop[3]-crop[1]\n",
    "    shifted_labels = []\n",
    "    for image_label, object_class in zip(image_labels, object_classes):\n",
    "        shifted_label = [\n",
    "            image_label[0]-crop[0], #minx\n",
    "            image_label[1]-crop[1], #miny\n",
    "            image_label[2]-crop[0], #maxx\n",
    "            image_label[3]-crop[1]  #maxy\n",
    "        ]\n",
    "        # cases to save shifted label (if it is not outside the crop)\n",
    "        if not ( \\\n",
    "            (shifted_label[0] <= 0) or \\\n",
    "            (shifted_label[1] <= 0) or \\\n",
    "            (shifted_label[2] >= crop_width) or \\\n",
    "            (shifted_label[3] >= crop_height)\n",
    "            ):\n",
    "            shifted_labels.append(\n",
    "                [object_class] + list(xyxy2yolo(\n",
    "                    shifted_label, (crop_width, crop_height))))\n",
    "            \n",
    "    return shifted_labels\n",
    "\n",
    "def xyxy2yolo(xyxy, image_size):\n",
    "    x_center = (xyxy[0] + xyxy[2]) / 2 / image_size[0]\n",
    "    y_center = (xyxy[1] + xyxy[3]) / 2 / image_size[1]\n",
    "    width = (xyxy[2] - xyxy[0])/ image_size[0]\n",
    "    height = (xyxy[3] - xyxy[1])/ image_size[1]\n",
    "    return x_center, y_center, width, height\n",
    "\n",
    "def yolo2xyxy(yolo, image_size):\n",
    "    return ((yolo[0]-yolo[2]/2)*image_size[0],\n",
    "            (yolo[1]-yolo[3]/2)*image_size[1],\n",
    "            (yolo[0]+yolo[2]/2)*image_size[0],\n",
    "            (yolo[1]+yolo[3]/2)*image_size[1])\n",
    "\n",
    "def crop_objects(image, image_labels, object_classes, objects_for_crop, random=True):\n",
    "    image_width, image_height = image.size\n",
    "    image_aspect_ratio = image_width/image_height\n",
    "    crops = []\n",
    "    crops_new_labels = []\n",
    "    for object_for_crop in objects_for_crop:\n",
    "        scale = object_for_crop[1]\n",
    "        xyxy = object_for_crop[0]\n",
    "        width = xyxy[2]-xyxy[0]\n",
    "        height = xyxy[3]-xyxy[1]\n",
    "        x_center = int((xyxy[2]+xyxy[0])/2)\n",
    "        y_center = int((xyxy[3]+xyxy[1])/2)\n",
    "\n",
    "        if width<=height:\n",
    "            aspect_ratio = width/height\n",
    "            crop_width = image_width/scale\n",
    "            crop_height = image_height/scale/aspect_ratio*image_aspect_ratio\n",
    "        elif width>height:\n",
    "            aspect_ratio = height/width\n",
    "            crop_height = image_height/scale\n",
    "            crop_width = image_width/scale/aspect_ratio/image_aspect_ratio\n",
    "\n",
    "        x_center_coef = 0\n",
    "        y_center_coef = 0\n",
    "        if random:\n",
    "            x_center_coef = np.random.uniform(-0.55,0.55)*crop_width/2\n",
    "            y_center_coef = np.random.uniform(-0.55,0.55)*crop_height/2\n",
    "\n",
    "        x_min = x_center+x_center_coef - crop_width/2\n",
    "        x_max = x_center+x_center_coef + crop_width/2\n",
    "        y_min = y_center+y_center_coef - crop_height/2\n",
    "        y_max = y_center+y_center_coef + crop_height/2\n",
    "\n",
    "        crop = image.crop((x_min, y_min, x_max, y_max))\n",
    "        new_labels = get_new_labels([x_min, y_min, x_max, y_max], image_labels, object_classes)\n",
    "        crops.append(crop)\n",
    "        crops_new_labels.append(new_labels)\n",
    "    return crops, crops_new_labels\n",
    "\n",
    "def save_crop(target_dir, name, crop_image, crop_labels):\n",
    "    if target_dir is str:\n",
    "        target_dir = Path(target_dir)\n",
    "    name = Path(name)\n",
    "    # create directories\n",
    "    print(name)\n",
    "    os.makedirs(Path(target_dir) / Path('images'), exist_ok=True)\n",
    "    os.makedirs(Path(target_dir) / Path('labels'), exist_ok=True)\n",
    "    # save image\n",
    "    crop_image.save(Path(target_dir) / Path('images') / name)\n",
    "    # save labels\n",
    "    with open(Path(target_dir) / Path('labels') / name.with_suffix('.txt'), 'w') as f:\n",
    "        for crop_label in crop_labels:\n",
    "            f.write(\" \".join([str(el) for el in crop_label])+'\\n')"
   ]
  },
  {
   "cell_type": "code",
   "execution_count": 196,
   "metadata": {},
   "outputs": [],
   "source": [
    "base_dir = Path(image_base_dir)\n",
    "imgs_dir = base_dir / Path(\"images\")\n",
    "labels_dir = base_dir / Path(\"labels\")\n",
    "image_paths = [imgs_dir / filename for filename in imgs_dir.rglob(\"*\")]"
   ]
  },
  {
   "cell_type": "code",
   "execution_count": 197,
   "metadata": {},
   "outputs": [],
   "source": [
    "image_path = image_paths[1000]"
   ]
  },
  {
   "cell_type": "code",
   "execution_count": 198,
   "metadata": {},
   "outputs": [],
   "source": [
    "image = Image.open(image_path)\n",
    "# Get labels\n",
    "image_labels_path = labels_dir / f'{image_path.stem}.txt'\n",
    "image_labels = get_image_labels(image_labels_path)"
   ]
  },
  {
   "cell_type": "code",
   "execution_count": 199,
   "metadata": {},
   "outputs": [],
   "source": [
    "for image_label in image_labels:\n",
    "    shape = [\n",
    "        (image_label[1]-image_label[3]/2)*image.size[0],\n",
    "        (image_label[2]-image_label[4]/2)*image.size[1],\n",
    "        (image_label[1]+image_label[3]/2)*image.size[0],\n",
    "        (image_label[2]+image_label[4]/2)*image.size[1]\n",
    "    ]\n",
    "    # ImageDraw.Draw(image).rectangle(shape, fill = None, outline =\"red\") \n",
    "# image"
   ]
  },
  {
   "cell_type": "code",
   "execution_count": 200,
   "metadata": {},
   "outputs": [
    {
     "data": {
      "text/plain": [
       "[3.0]"
      ]
     },
     "execution_count": 200,
     "metadata": {},
     "output_type": "execute_result"
    }
   ],
   "source": [
    "object_classes = get_object_classes(image_labels)\n",
    "object_classes"
   ]
  },
  {
   "cell_type": "code",
   "execution_count": 201,
   "metadata": {},
   "outputs": [
    {
     "data": {
      "text/plain": [
       "[[2389.0, 962.0, 2406.0, 976.0000000000001]]"
      ]
     },
     "execution_count": 201,
     "metadata": {},
     "output_type": "execute_result"
    }
   ],
   "source": [
    "boxes_pixel_xyxy = get_boxes_pixel_xyxy(image_labels, image.size)\n",
    "boxes_pixel_xyxy"
   ]
  },
  {
   "cell_type": "code",
   "execution_count": 202,
   "metadata": {},
   "outputs": [
    {
     "data": {
      "text/plain": [
       "[([2389.0, 962.0, 2406.0, 976.0000000000001], 10.161727348569016)]"
      ]
     },
     "execution_count": 202,
     "metadata": {},
     "output_type": "execute_result"
    }
   ],
   "source": [
    "objects_for_crop = get_objects_for_crop(boxes_pixel_xyxy, min_pixel_size)\n",
    "objects_for_crop"
   ]
  },
  {
   "cell_type": "code",
   "execution_count": 203,
   "metadata": {},
   "outputs": [],
   "source": [
    "crops, crops_new_labels = crop_objects(image, boxes_pixel_xyxy, object_classes, objects_for_crop)"
   ]
  },
  {
   "cell_type": "code",
   "execution_count": 204,
   "metadata": {},
   "outputs": [
    {
     "data": {
      "text/plain": [
       "[3.0,\n",
       " 0.7113769079419905,\n",
       " 0.2990082702829144,\n",
       " 0.06586304762961451,\n",
       " 0.0658630476296145]"
      ]
     },
     "execution_count": 204,
     "metadata": {},
     "output_type": "execute_result"
    }
   ],
   "source": [
    "crops_new_labels[0][0]"
   ]
  },
  {
   "cell_type": "code",
   "execution_count": 205,
   "metadata": {},
   "outputs": [
    {
     "data": {
      "image/jpeg": "[encoded data removed]",
      "image/png": "[encoded data removed]",
      "text/plain": [
       "<PIL.Image.Image image mode=RGB size=258x213>"
      ]
     },
     "execution_count": 205,
     "metadata": {},
     "output_type": "execute_result"
    }
   ],
   "source": [
    "crops[0]"
   ]
  },
  {
   "cell_type": "code",
   "execution_count": 176,
   "metadata": {},
   "outputs": [],
   "source": [
    "ImageDraw.Draw(crops[0]).rectangle(yolo2xyxy(crops_new_labels[0][0][1:], crops[0].size), fill = None, outline =\"red\") "
   ]
  },
  {
   "cell_type": "code",
   "execution_count": 177,
   "metadata": {},
   "outputs": [
    {
     "data": {
      "image/jpeg": "[encoded data removed]",
      "image/png": "[encoded data removed]",
      "text/plain": [
       "<PIL.Image.Image image mode=RGB size=287x236>"
      ]
     },
     "execution_count": 177,
     "metadata": {},
     "output_type": "execute_result"
    }
   ],
   "source": [
    "crops[0]"
   ]
  },
  {
   "cell_type": "code",
   "execution_count": 185,
   "metadata": {},
   "outputs": [
    {
     "data": {
      "text/plain": [
       "'3.0 0.28478513707538927 0.22839948978328536 0.05925925925925926 0.05925925925925928'"
      ]
     },
     "execution_count": 185,
     "metadata": {},
     "output_type": "execute_result"
    }
   ],
   "source": [
    "\" \".join([str(el) for el in crops_new_labels[0][0]])"
   ]
  },
  {
   "cell_type": "code",
   "execution_count": 194,
   "metadata": {},
   "outputs": [
    {
     "name": "stdout",
     "output_type": "stream",
     "text": [
      "test.jpg\n"
     ]
    }
   ],
   "source": [
    "save_crop(\".\", 'test.jpg', crop_image=crops[0], crop_labels=crops_new_labels[0])"
   ]
  },
  {
   "cell_type": "code",
   "execution_count": null,
   "metadata": {},
   "outputs": [],
   "source": [
    "target_dir = \"~/hdd/hdd4/Datasets/lct-drones/prod_data_crops\""
   ]
  }
 ],
 "metadata": {
  "kernelspec": {
   "display_name": "v8",
   "language": "python",
   "name": "python3"
  },
  "language_info": {
   "codemirror_mode": {
    "name": "ipython",
    "version": 3
   },
   "file_extension": ".py",
   "mimetype": "text/x-python",
   "name": "python",
   "nbconvert_exporter": "python",
   "pygments_lexer": "ipython3",
   "version": "3.10.14"
  }
 },
 "nbformat": 4,
 "nbformat_minor": 2
}
